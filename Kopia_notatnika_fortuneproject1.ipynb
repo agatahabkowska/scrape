{
  "nbformat": 4,
  "nbformat_minor": 0,
  "metadata": {
    "colab": {
      "provenance": []
    },
    "kernelspec": {
      "name": "python3",
      "display_name": "Python 3"
    },
    "language_info": {
      "name": "python"
    }
  },
  "cells": [
    {
      "cell_type": "code",
      "execution_count": null,
      "metadata": {
        "id": "n8yFTiLT3LX9"
      },
      "outputs": [],
      "source": []
    },
    {
      "cell_type": "markdown",
      "source": [
        "#Hello from Jupyter!\n"
      ],
      "metadata": {
        "id": "nIqxo2OD3Mvj"
      }
    }
  ]
}