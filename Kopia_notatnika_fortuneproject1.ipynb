https://jupyter.org/try-jupyter/notebooks/index.html?path=notebooks%2Fling.ipynb
